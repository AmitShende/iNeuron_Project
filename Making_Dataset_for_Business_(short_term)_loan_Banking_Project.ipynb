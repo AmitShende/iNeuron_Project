{
  "nbformat": 4,
  "nbformat_minor": 0,
  "metadata": {
    "colab": {
      "name": "Making Dataset for Business (short-term) loan Banking Project",
      "provenance": [],
      "collapsed_sections": [],
      "toc_visible": true
    },
    "kernelspec": {
      "name": "python3",
      "display_name": "Python 3"
    }
  },
  "cells": [
    {
      "cell_type": "markdown",
      "metadata": {
        "id": "bHcMMQWZLbkb"
      },
      "source": [
        "# Creating Dummy Dataset of bank for Personal Loan product"
      ]
    },
    {
      "cell_type": "markdown",
      "metadata": {
        "id": "aSnikLxyiIpv"
      },
      "source": [
        "## Attributes:\n",
        "\n",
        "- Date_of_dis => Date of loan disbursement\n",
        "- Customer_id\n",
        "- First_name\n",
        "- Last_name\n",
        "- Gender => (Male, Female)\n",
        "- Email\n",
        "- Phone\n",
        "- Age\n",
        "- Occupation => Customers occupation\n",
        "- Income\n",
        "- Marital_status => (Married, Single, Divorced, Widowed, Seperated)\n",
        "- Principle_Amount\n",
        "- Interest_rate\n",
        "- Processing_fee\n",
        "- Tenure => (12, 24, 36, 48, 60)months\n",
        "- EMI\n",
        "- First_duedate\n",
        "- Tenure_rem => Tenure Remaining\n",
        "- Principle_amt_rem => Principle amount remaining\n",
        "- Last_duedate\n",
        "- Last_payrecvd\n",
        "- Next_duedate\n",
        "- Loan_status => (Active, Collection, Sold, Paidoff)\n",
        "- Loan_purpose => ('Bill Payments', 'Emergency Expenses', 'Home Repairs', 'Refinance', 'Medical Expense', 'Personal Expenses')"
      ]
    },
    {
      "cell_type": "code",
      "metadata": {
        "id": "KVkUf_grg4wS"
      },
      "source": [
        "import pandas as pd\n",
        "import numpy as np"
      ],
      "execution_count": 140,
      "outputs": []
    },
    {
      "cell_type": "code",
      "metadata": {
        "id": "GQ4ANH-XhERZ",
        "colab": {
          "base_uri": "https://localhost:8080/",
          "height": 195
        },
        "outputId": "810aa474-d87b-44af-b7ef-41d60ac040ec"
      },
      "source": [
        "# Creating 1lac rows od 'Date of credit'\n",
        "\n",
        "date_range = pd.date_range(start='2018-01-01', end= '2019-12-31', freq='D')\n",
        "date = list(pd.Series(date_range))\n",
        "Date_of_cr = np.random.choice(date, 100000)\n",
        "df = pd.DataFrame(Date_of_cr, columns=['Date_of_cr'])\n",
        "df['Date_of_cr'] = sorted(df['Date_of_cr'])\n",
        "df.head()"
      ],
      "execution_count": 141,
      "outputs": [
        {
          "output_type": "execute_result",
          "data": {
            "text/html": [
              "<div>\n",
              "<style scoped>\n",
              "    .dataframe tbody tr th:only-of-type {\n",
              "        vertical-align: middle;\n",
              "    }\n",
              "\n",
              "    .dataframe tbody tr th {\n",
              "        vertical-align: top;\n",
              "    }\n",
              "\n",
              "    .dataframe thead th {\n",
              "        text-align: right;\n",
              "    }\n",
              "</style>\n",
              "<table border=\"1\" class=\"dataframe\">\n",
              "  <thead>\n",
              "    <tr style=\"text-align: right;\">\n",
              "      <th></th>\n",
              "      <th>Date_of_cr</th>\n",
              "    </tr>\n",
              "  </thead>\n",
              "  <tbody>\n",
              "    <tr>\n",
              "      <th>0</th>\n",
              "      <td>2018-01-01</td>\n",
              "    </tr>\n",
              "    <tr>\n",
              "      <th>1</th>\n",
              "      <td>2018-01-01</td>\n",
              "    </tr>\n",
              "    <tr>\n",
              "      <th>2</th>\n",
              "      <td>2018-01-01</td>\n",
              "    </tr>\n",
              "    <tr>\n",
              "      <th>3</th>\n",
              "      <td>2018-01-01</td>\n",
              "    </tr>\n",
              "    <tr>\n",
              "      <th>4</th>\n",
              "      <td>2018-01-01</td>\n",
              "    </tr>\n",
              "  </tbody>\n",
              "</table>\n",
              "</div>"
            ],
            "text/plain": [
              "  Date_of_cr\n",
              "0 2018-01-01\n",
              "1 2018-01-01\n",
              "2 2018-01-01\n",
              "3 2018-01-01\n",
              "4 2018-01-01"
            ]
          },
          "metadata": {
            "tags": []
          },
          "execution_count": 141
        }
      ]
    },
    {
      "cell_type": "code",
      "metadata": {
        "id": "AHq-eS9aAryP",
        "colab": {
          "base_uri": "https://localhost:8080/"
        },
        "outputId": "011423f8-45ad-4f11-c7b0-189cb591e44d"
      },
      "source": [
        "df.shape"
      ],
      "execution_count": 142,
      "outputs": [
        {
          "output_type": "execute_result",
          "data": {
            "text/plain": [
              "(100000, 1)"
            ]
          },
          "metadata": {
            "tags": []
          },
          "execution_count": 142
        }
      ]
    },
    {
      "cell_type": "code",
      "metadata": {
        "id": "1D9TOJiWAu2r",
        "colab": {
          "base_uri": "https://localhost:8080/",
          "height": 195
        },
        "outputId": "33eb72d7-d2db-45aa-846c-464d3296c84c"
      },
      "source": [
        "# Creating Customer Id data\n",
        "import random\n",
        "\n",
        "df['Customer_id'] = sorted(random.sample(range(1000000, 9999999), len(df['Date_of_cr']))) \n",
        "df.head()"
      ],
      "execution_count": 143,
      "outputs": [
        {
          "output_type": "execute_result",
          "data": {
            "text/html": [
              "<div>\n",
              "<style scoped>\n",
              "    .dataframe tbody tr th:only-of-type {\n",
              "        vertical-align: middle;\n",
              "    }\n",
              "\n",
              "    .dataframe tbody tr th {\n",
              "        vertical-align: top;\n",
              "    }\n",
              "\n",
              "    .dataframe thead th {\n",
              "        text-align: right;\n",
              "    }\n",
              "</style>\n",
              "<table border=\"1\" class=\"dataframe\">\n",
              "  <thead>\n",
              "    <tr style=\"text-align: right;\">\n",
              "      <th></th>\n",
              "      <th>Date_of_cr</th>\n",
              "      <th>Customer_id</th>\n",
              "    </tr>\n",
              "  </thead>\n",
              "  <tbody>\n",
              "    <tr>\n",
              "      <th>0</th>\n",
              "      <td>2018-01-01</td>\n",
              "      <td>1000040</td>\n",
              "    </tr>\n",
              "    <tr>\n",
              "      <th>1</th>\n",
              "      <td>2018-01-01</td>\n",
              "      <td>1000055</td>\n",
              "    </tr>\n",
              "    <tr>\n",
              "      <th>2</th>\n",
              "      <td>2018-01-01</td>\n",
              "      <td>1000322</td>\n",
              "    </tr>\n",
              "    <tr>\n",
              "      <th>3</th>\n",
              "      <td>2018-01-01</td>\n",
              "      <td>1000371</td>\n",
              "    </tr>\n",
              "    <tr>\n",
              "      <th>4</th>\n",
              "      <td>2018-01-01</td>\n",
              "      <td>1000529</td>\n",
              "    </tr>\n",
              "  </tbody>\n",
              "</table>\n",
              "</div>"
            ],
            "text/plain": [
              "  Date_of_cr  Customer_id\n",
              "0 2018-01-01      1000040\n",
              "1 2018-01-01      1000055\n",
              "2 2018-01-01      1000322\n",
              "3 2018-01-01      1000371\n",
              "4 2018-01-01      1000529"
            ]
          },
          "metadata": {
            "tags": []
          },
          "execution_count": 143
        }
      ]
    },
    {
      "cell_type": "code",
      "metadata": {
        "id": "7AvCpyAjj9cE"
      },
      "source": [
        "lastname = pd.read_csv('/content/drive/My Drive/Colab Notebooks/iNeuron Project/Indian-Last-Names.csv')\n",
        "\n",
        "\n",
        "# removing all missing data and non alpha data\n",
        "l_name=[]\n",
        "\n",
        "for x in lastname['Last_names']:\n",
        "  if type(x) == str:\n",
        "    l_name.append(x)\n",
        "\n",
        "# taking only the first word of the name\n",
        "last_name = []\n",
        "\n",
        "for x in l_name:\n",
        "  last_name.append(x.split()[0])\n"
      ],
      "execution_count": 144,
      "outputs": []
    },
    {
      "cell_type": "code",
      "metadata": {
        "id": "GU_n517CcKPQ",
        "colab": {
          "base_uri": "https://localhost:8080/"
        },
        "outputId": "af6caa86-3899-4819-bbd1-08e2dc300764"
      },
      "source": [
        "len(last_name)"
      ],
      "execution_count": 145,
      "outputs": [
        {
          "output_type": "execute_result",
          "data": {
            "text/plain": [
              "564"
            ]
          },
          "metadata": {
            "tags": []
          },
          "execution_count": 145
        }
      ]
    },
    {
      "cell_type": "code",
      "metadata": {
        "id": "Eapv0QvuF-Qj"
      },
      "source": [
        "# Creating 1 lac names (50k male & 50k female names)\n",
        "\n",
        "malename = pd.read_csv('/content/drive/My Drive/Colab Notebooks/iNeuron Project/Indian-Male-Names.csv')\n",
        "malename = malename.drop(['race'], axis=1)\n",
        "\n",
        "femalename = pd.read_csv('/content/drive/My Drive/Colab Notebooks/iNeuron Project/Indian-Female-Names.csv')\n",
        "femalename = femalename.drop(['race'], axis=1)\n"
      ],
      "execution_count": 146,
      "outputs": []
    },
    {
      "cell_type": "code",
      "metadata": {
        "colab": {
          "base_uri": "https://localhost:8080/",
          "height": 195
        },
        "id": "YUqG_4iF2try",
        "outputId": "d4fd26f3-6046-44c1-be92-5ed6cd7dc58a"
      },
      "source": [
        "femalename.tail()"
      ],
      "execution_count": 147,
      "outputs": [
        {
          "output_type": "execute_result",
          "data": {
            "text/html": [
              "<div>\n",
              "<style scoped>\n",
              "    .dataframe tbody tr th:only-of-type {\n",
              "        vertical-align: middle;\n",
              "    }\n",
              "\n",
              "    .dataframe tbody tr th {\n",
              "        vertical-align: top;\n",
              "    }\n",
              "\n",
              "    .dataframe thead th {\n",
              "        text-align: right;\n",
              "    }\n",
              "</style>\n",
              "<table border=\"1\" class=\"dataframe\">\n",
              "  <thead>\n",
              "    <tr style=\"text-align: right;\">\n",
              "      <th></th>\n",
              "      <th>name</th>\n",
              "      <th>gender</th>\n",
              "    </tr>\n",
              "  </thead>\n",
              "  <tbody>\n",
              "    <tr>\n",
              "      <th>15377</th>\n",
              "      <td>saroj devi</td>\n",
              "      <td>f</td>\n",
              "    </tr>\n",
              "    <tr>\n",
              "      <th>15378</th>\n",
              "      <td>naina @ geeta</td>\n",
              "      <td>f</td>\n",
              "    </tr>\n",
              "    <tr>\n",
              "      <th>15379</th>\n",
              "      <td>manju d/0 baboo lal jatav</td>\n",
              "      <td>f</td>\n",
              "    </tr>\n",
              "    <tr>\n",
              "      <th>15380</th>\n",
              "      <td>shivani</td>\n",
              "      <td>f</td>\n",
              "    </tr>\n",
              "    <tr>\n",
              "      <th>15381</th>\n",
              "      <td>nayna</td>\n",
              "      <td>f</td>\n",
              "    </tr>\n",
              "  </tbody>\n",
              "</table>\n",
              "</div>"
            ],
            "text/plain": [
              "                            name gender\n",
              "15377                 saroj devi      f\n",
              "15378              naina @ geeta      f\n",
              "15379  manju d/0 baboo lal jatav      f\n",
              "15380                    shivani      f\n",
              "15381                      nayna      f"
            ]
          },
          "metadata": {
            "tags": []
          },
          "execution_count": 147
        }
      ]
    },
    {
      "cell_type": "code",
      "metadata": {
        "id": "k3ow6Qe1En7k"
      },
      "source": [
        "malename = malename.dropna(axis=0)\n",
        "femalename = femalename.dropna(axis=0)"
      ],
      "execution_count": 148,
      "outputs": []
    },
    {
      "cell_type": "code",
      "metadata": {
        "colab": {
          "base_uri": "https://localhost:8080/"
        },
        "id": "Ie1-_tCJEyx4",
        "outputId": "84fc4b58-41a8-47fc-ffd6-b71f3224b7e0"
      },
      "source": [
        "print(malename.isna().sum())\n",
        "print(femalename.isna().sum())"
      ],
      "execution_count": 149,
      "outputs": [
        {
          "output_type": "stream",
          "text": [
            "name      0\n",
            "gender    0\n",
            "dtype: int64\n",
            "name      0\n",
            "gender    0\n",
            "dtype: int64\n"
          ],
          "name": "stdout"
        }
      ]
    },
    {
      "cell_type": "code",
      "metadata": {
        "id": "WPRvqR6q22vj"
      },
      "source": [
        "malename['gender'] = malename['gender'].replace('m', 'Male')\n",
        "femalename['gender'] = femalename['gender'].replace('f', 'Female')"
      ],
      "execution_count": 150,
      "outputs": []
    },
    {
      "cell_type": "code",
      "metadata": {
        "colab": {
          "base_uri": "https://localhost:8080/",
          "height": 402
        },
        "id": "6KLJxGOT1pVK",
        "outputId": "5672e188-9f0f-4ae4-d339-0cfd15a90dba"
      },
      "source": [
        "# removing all except for english\n",
        "import re\n",
        "\n",
        "malename['name'] = [re.sub('[^A-Za-z]+', '', x) for x in malename['name']]\n",
        "femalename['name'] = [re.sub('[^A-Za-z]+', '', x) for x in femalename['name']]\n",
        "femalename.sort_values(by = 'name')"
      ],
      "execution_count": 151,
      "outputs": [
        {
          "output_type": "execute_result",
          "data": {
            "text/html": [
              "<div>\n",
              "<style scoped>\n",
              "    .dataframe tbody tr th:only-of-type {\n",
              "        vertical-align: middle;\n",
              "    }\n",
              "\n",
              "    .dataframe tbody tr th {\n",
              "        vertical-align: top;\n",
              "    }\n",
              "\n",
              "    .dataframe thead th {\n",
              "        text-align: right;\n",
              "    }\n",
              "</style>\n",
              "<table border=\"1\" class=\"dataframe\">\n",
              "  <thead>\n",
              "    <tr style=\"text-align: right;\">\n",
              "      <th></th>\n",
              "      <th>name</th>\n",
              "      <th>gender</th>\n",
              "    </tr>\n",
              "  </thead>\n",
              "  <tbody>\n",
              "    <tr>\n",
              "      <th>5568</th>\n",
              "      <td></td>\n",
              "      <td>Female</td>\n",
              "    </tr>\n",
              "    <tr>\n",
              "      <th>14757</th>\n",
              "      <td></td>\n",
              "      <td>Female</td>\n",
              "    </tr>\n",
              "    <tr>\n",
              "      <th>13691</th>\n",
              "      <td></td>\n",
              "      <td>Female</td>\n",
              "    </tr>\n",
              "    <tr>\n",
              "      <th>9861</th>\n",
              "      <td></td>\n",
              "      <td>Female</td>\n",
              "    </tr>\n",
              "    <tr>\n",
              "      <th>14791</th>\n",
              "      <td></td>\n",
              "      <td>Female</td>\n",
              "    </tr>\n",
              "    <tr>\n",
              "      <th>...</th>\n",
              "      <td>...</td>\n",
              "      <td>...</td>\n",
              "    </tr>\n",
              "    <tr>\n",
              "      <th>8748</th>\n",
              "      <td>zeenat</td>\n",
              "      <td>Female</td>\n",
              "    </tr>\n",
              "    <tr>\n",
              "      <th>5760</th>\n",
              "      <td>zenabkhan</td>\n",
              "      <td>Female</td>\n",
              "    </tr>\n",
              "    <tr>\n",
              "      <th>12993</th>\n",
              "      <td>zhinidevi</td>\n",
              "      <td>Female</td>\n",
              "    </tr>\n",
              "    <tr>\n",
              "      <th>2313</th>\n",
              "      <td>zinakumari</td>\n",
              "      <td>Female</td>\n",
              "    </tr>\n",
              "    <tr>\n",
              "      <th>9694</th>\n",
              "      <td>zoya</td>\n",
              "      <td>Female</td>\n",
              "    </tr>\n",
              "  </tbody>\n",
              "</table>\n",
              "<p>15351 rows × 2 columns</p>\n",
              "</div>"
            ],
            "text/plain": [
              "             name  gender\n",
              "5568               Female\n",
              "14757              Female\n",
              "13691              Female\n",
              "9861               Female\n",
              "14791              Female\n",
              "...           ...     ...\n",
              "8748       zeenat  Female\n",
              "5760    zenabkhan  Female\n",
              "12993   zhinidevi  Female\n",
              "2313   zinakumari  Female\n",
              "9694         zoya  Female\n",
              "\n",
              "[15351 rows x 2 columns]"
            ]
          },
          "metadata": {
            "tags": []
          },
          "execution_count": 151
        }
      ]
    },
    {
      "cell_type": "code",
      "metadata": {
        "colab": {
          "base_uri": "https://localhost:8080/",
          "height": 35
        },
        "id": "6yq0txurCB1h",
        "outputId": "22f97f74-468a-4fc3-e3e5-766ab1676fad"
      },
      "source": [
        "mllist = [malename.name.unique()]\n",
        "mllist = np.sort(mllist)\n",
        "mllist[0][0]"
      ],
      "execution_count": 152,
      "outputs": [
        {
          "output_type": "execute_result",
          "data": {
            "application/vnd.google.colaboratory.intrinsic+json": {
              "type": "string"
            },
            "text/plain": [
              "''"
            ]
          },
          "metadata": {
            "tags": []
          },
          "execution_count": 152
        }
      ]
    },
    {
      "cell_type": "code",
      "metadata": {
        "id": "1DtVR5UDEkC4"
      },
      "source": [
        "malename['name'] = malename['name'].replace('', np.nan)\n",
        "femalename['name'] = femalename['name'].replace('', np.nan)"
      ],
      "execution_count": 153,
      "outputs": []
    },
    {
      "cell_type": "code",
      "metadata": {
        "colab": {
          "base_uri": "https://localhost:8080/"
        },
        "id": "XKF6yOkU3Ok_",
        "outputId": "05438b0a-b43f-4b7c-8709-a085b300a866"
      },
      "source": [
        "print(malename.isna().sum())\n",
        "print(femalename.isna().sum())"
      ],
      "execution_count": 154,
      "outputs": [
        {
          "output_type": "stream",
          "text": [
            "name      45\n",
            "gender     0\n",
            "dtype: int64\n",
            "name      70\n",
            "gender     0\n",
            "dtype: int64\n"
          ],
          "name": "stdout"
        }
      ]
    },
    {
      "cell_type": "code",
      "metadata": {
        "id": "JT3f6jVD3cCc"
      },
      "source": [
        "malename = malename.dropna(axis=0)\n",
        "femalename = femalename.dropna(axis=0)"
      ],
      "execution_count": 155,
      "outputs": []
    },
    {
      "cell_type": "code",
      "metadata": {
        "colab": {
          "base_uri": "https://localhost:8080/"
        },
        "id": "Dn-h67hJA-Ky",
        "outputId": "bba14261-47ac-4e94-cc37-33334c462841"
      },
      "source": [
        "print(malename.isna().sum())\n",
        "print(femalename.isna().sum())"
      ],
      "execution_count": 156,
      "outputs": [
        {
          "output_type": "stream",
          "text": [
            "name      0\n",
            "gender    0\n",
            "dtype: int64\n",
            "name      0\n",
            "gender    0\n",
            "dtype: int64\n"
          ],
          "name": "stdout"
        }
      ]
    },
    {
      "cell_type": "code",
      "metadata": {
        "id": "Wg0sX1mqt2gt",
        "colab": {
          "base_uri": "https://localhost:8080/"
        },
        "outputId": "a8fb31ac-4ac9-42e8-a46a-c69ea63bfc13"
      },
      "source": [
        "print(malename.shape)\n",
        "print(femalename.shape)"
      ],
      "execution_count": 157,
      "outputs": [
        {
          "output_type": "stream",
          "text": [
            "(14776, 2)\n",
            "(15281, 2)\n"
          ],
          "name": "stdout"
        }
      ]
    },
    {
      "cell_type": "code",
      "metadata": {
        "colab": {
          "base_uri": "https://localhost:8080/",
          "height": 195
        },
        "id": "dRgyEFUyJGY5",
        "outputId": "6cb5751d-3cb3-4374-933f-2fcd69c54405"
      },
      "source": [
        "femalename.head().sort_values(by= 'name')"
      ],
      "execution_count": 158,
      "outputs": [
        {
          "output_type": "execute_result",
          "data": {
            "text/html": [
              "<div>\n",
              "<style scoped>\n",
              "    .dataframe tbody tr th:only-of-type {\n",
              "        vertical-align: middle;\n",
              "    }\n",
              "\n",
              "    .dataframe tbody tr th {\n",
              "        vertical-align: top;\n",
              "    }\n",
              "\n",
              "    .dataframe thead th {\n",
              "        text-align: right;\n",
              "    }\n",
              "</style>\n",
              "<table border=\"1\" class=\"dataframe\">\n",
              "  <thead>\n",
              "    <tr style=\"text-align: right;\">\n",
              "      <th></th>\n",
              "      <th>name</th>\n",
              "      <th>gender</th>\n",
              "    </tr>\n",
              "  </thead>\n",
              "  <tbody>\n",
              "    <tr>\n",
              "      <th>3</th>\n",
              "      <td>divya</td>\n",
              "      <td>Female</td>\n",
              "    </tr>\n",
              "    <tr>\n",
              "      <th>1</th>\n",
              "      <td>isha</td>\n",
              "      <td>Female</td>\n",
              "    </tr>\n",
              "    <tr>\n",
              "      <th>4</th>\n",
              "      <td>mansi</td>\n",
              "      <td>Female</td>\n",
              "    </tr>\n",
              "    <tr>\n",
              "      <th>0</th>\n",
              "      <td>shivani</td>\n",
              "      <td>Female</td>\n",
              "    </tr>\n",
              "    <tr>\n",
              "      <th>2</th>\n",
              "      <td>smtshyanidevi</td>\n",
              "      <td>Female</td>\n",
              "    </tr>\n",
              "  </tbody>\n",
              "</table>\n",
              "</div>"
            ],
            "text/plain": [
              "            name  gender\n",
              "3          divya  Female\n",
              "1           isha  Female\n",
              "4          mansi  Female\n",
              "0        shivani  Female\n",
              "2  smtshyanidevi  Female"
            ]
          },
          "metadata": {
            "tags": []
          },
          "execution_count": 158
        }
      ]
    },
    {
      "cell_type": "code",
      "metadata": {
        "id": "IqFUTXBeyRAx"
      },
      "source": [
        "malename.to_csv('malename.csv')\n",
        "femalename.to_csv('femalename.csv')"
      ],
      "execution_count": 159,
      "outputs": []
    },
    {
      "cell_type": "code",
      "metadata": {
        "id": "AUKop14rdlhV"
      },
      "source": [
        "malename50k = np.random.choice(malename['name'], 50000)\n",
        "femalename50k = np.random.choice(femalename['name'], 50000)\n",
        "malegender50k = np.random.choice(malename['gender'], 50000)\n",
        "femalegender50k = np.random.choice(femalename['gender'], 50000)"
      ],
      "execution_count": 160,
      "outputs": []
    },
    {
      "cell_type": "code",
      "metadata": {
        "id": "wJRiL8k6eRD7"
      },
      "source": [
        "Mnamedata = pd.DataFrame(list(zip(malename50k, malegender50k)), columns=['First_name', 'Gender'])\n",
        "Fnamedata = pd.DataFrame(list(zip(femalename50k, femalegender50k)), columns=['First_name', 'Gender'])"
      ],
      "execution_count": 161,
      "outputs": []
    },
    {
      "cell_type": "code",
      "metadata": {
        "colab": {
          "base_uri": "https://localhost:8080/",
          "height": 195
        },
        "id": "YfV5c79CPPzV",
        "outputId": "a86b6b53-74aa-410d-cc6e-df17292b6f49"
      },
      "source": [
        "Mnamedata.head()"
      ],
      "execution_count": 162,
      "outputs": [
        {
          "output_type": "execute_result",
          "data": {
            "text/html": [
              "<div>\n",
              "<style scoped>\n",
              "    .dataframe tbody tr th:only-of-type {\n",
              "        vertical-align: middle;\n",
              "    }\n",
              "\n",
              "    .dataframe tbody tr th {\n",
              "        vertical-align: top;\n",
              "    }\n",
              "\n",
              "    .dataframe thead th {\n",
              "        text-align: right;\n",
              "    }\n",
              "</style>\n",
              "<table border=\"1\" class=\"dataframe\">\n",
              "  <thead>\n",
              "    <tr style=\"text-align: right;\">\n",
              "      <th></th>\n",
              "      <th>First_name</th>\n",
              "      <th>Gender</th>\n",
              "    </tr>\n",
              "  </thead>\n",
              "  <tbody>\n",
              "    <tr>\n",
              "      <th>0</th>\n",
              "      <td>pradeep</td>\n",
              "      <td>Male</td>\n",
              "    </tr>\n",
              "    <tr>\n",
              "      <th>1</th>\n",
              "      <td>anish</td>\n",
              "      <td>Male</td>\n",
              "    </tr>\n",
              "    <tr>\n",
              "      <th>2</th>\n",
              "      <td>kamalkishor</td>\n",
              "      <td>Male</td>\n",
              "    </tr>\n",
              "    <tr>\n",
              "      <th>3</th>\n",
              "      <td>dinesh</td>\n",
              "      <td>Male</td>\n",
              "    </tr>\n",
              "    <tr>\n",
              "      <th>4</th>\n",
              "      <td>madankumarchaudhari</td>\n",
              "      <td>Male</td>\n",
              "    </tr>\n",
              "  </tbody>\n",
              "</table>\n",
              "</div>"
            ],
            "text/plain": [
              "            First_name Gender\n",
              "0              pradeep   Male\n",
              "1                anish   Male\n",
              "2          kamalkishor   Male\n",
              "3               dinesh   Male\n",
              "4  madankumarchaudhari   Male"
            ]
          },
          "metadata": {
            "tags": []
          },
          "execution_count": 162
        }
      ]
    },
    {
      "cell_type": "code",
      "metadata": {
        "id": "ec9SMn2chZai",
        "colab": {
          "base_uri": "https://localhost:8080/"
        },
        "outputId": "618155a5-3ee0-4cfc-a602-04c118efae51"
      },
      "source": [
        "bothnamegenderdata = pd.concat([Mnamedata, Fnamedata], axis=0, ignore_index=True)   \n",
        "bothnamegenderdata.shape"
      ],
      "execution_count": 163,
      "outputs": [
        {
          "output_type": "execute_result",
          "data": {
            "text/plain": [
              "(100000, 2)"
            ]
          },
          "metadata": {
            "tags": []
          },
          "execution_count": 163
        }
      ]
    },
    {
      "cell_type": "code",
      "metadata": {
        "id": "VSQ3DYk1MO63"
      },
      "source": [
        "# shuffle rows of dataframe\n",
        "\n",
        "df1 = bothnamegenderdata.sort_values(by='First_name')"
      ],
      "execution_count": 164,
      "outputs": []
    },
    {
      "cell_type": "code",
      "metadata": {
        "colab": {
          "base_uri": "https://localhost:8080/",
          "height": 343
        },
        "id": "HphnYsDBMuoc",
        "outputId": "a236fd59-3616-44ef-9650-ccaa00d43e59"
      },
      "source": [
        "df1.head(10)"
      ],
      "execution_count": 165,
      "outputs": [
        {
          "output_type": "execute_result",
          "data": {
            "text/html": [
              "<div>\n",
              "<style scoped>\n",
              "    .dataframe tbody tr th:only-of-type {\n",
              "        vertical-align: middle;\n",
              "    }\n",
              "\n",
              "    .dataframe tbody tr th {\n",
              "        vertical-align: top;\n",
              "    }\n",
              "\n",
              "    .dataframe thead th {\n",
              "        text-align: right;\n",
              "    }\n",
              "</style>\n",
              "<table border=\"1\" class=\"dataframe\">\n",
              "  <thead>\n",
              "    <tr style=\"text-align: right;\">\n",
              "      <th></th>\n",
              "      <th>First_name</th>\n",
              "      <th>Gender</th>\n",
              "    </tr>\n",
              "  </thead>\n",
              "  <tbody>\n",
              "    <tr>\n",
              "      <th>1287</th>\n",
              "      <td>aabid</td>\n",
              "      <td>Male</td>\n",
              "    </tr>\n",
              "    <tr>\n",
              "      <th>14902</th>\n",
              "      <td>aabid</td>\n",
              "      <td>Male</td>\n",
              "    </tr>\n",
              "    <tr>\n",
              "      <th>1857</th>\n",
              "      <td>aabid</td>\n",
              "      <td>Male</td>\n",
              "    </tr>\n",
              "    <tr>\n",
              "      <th>37552</th>\n",
              "      <td>aabid</td>\n",
              "      <td>Male</td>\n",
              "    </tr>\n",
              "    <tr>\n",
              "      <th>23572</th>\n",
              "      <td>aabid</td>\n",
              "      <td>Male</td>\n",
              "    </tr>\n",
              "    <tr>\n",
              "      <th>2844</th>\n",
              "      <td>aabid</td>\n",
              "      <td>Male</td>\n",
              "    </tr>\n",
              "    <tr>\n",
              "      <th>2999</th>\n",
              "      <td>aabid</td>\n",
              "      <td>Male</td>\n",
              "    </tr>\n",
              "    <tr>\n",
              "      <th>29822</th>\n",
              "      <td>aabid</td>\n",
              "      <td>Male</td>\n",
              "    </tr>\n",
              "    <tr>\n",
              "      <th>35013</th>\n",
              "      <td>aabid</td>\n",
              "      <td>Male</td>\n",
              "    </tr>\n",
              "    <tr>\n",
              "      <th>37066</th>\n",
              "      <td>aabid</td>\n",
              "      <td>Male</td>\n",
              "    </tr>\n",
              "  </tbody>\n",
              "</table>\n",
              "</div>"
            ],
            "text/plain": [
              "      First_name Gender\n",
              "1287       aabid   Male\n",
              "14902      aabid   Male\n",
              "1857       aabid   Male\n",
              "37552      aabid   Male\n",
              "23572      aabid   Male\n",
              "2844       aabid   Male\n",
              "2999       aabid   Male\n",
              "29822      aabid   Male\n",
              "35013      aabid   Male\n",
              "37066      aabid   Male"
            ]
          },
          "metadata": {
            "tags": []
          },
          "execution_count": 165
        }
      ]
    },
    {
      "cell_type": "code",
      "metadata": {
        "id": "r4iH3I8AiYv2"
      },
      "source": [
        "df = pd.concat([df, df1], join='inner', axis=1)"
      ],
      "execution_count": 166,
      "outputs": []
    },
    {
      "cell_type": "code",
      "metadata": {
        "id": "Hkk9BgLRjAyN",
        "colab": {
          "base_uri": "https://localhost:8080/",
          "height": 195
        },
        "outputId": "0dcddd94-87c8-4112-fe3d-2add6c3e0bd6"
      },
      "source": [
        "df.head()"
      ],
      "execution_count": 167,
      "outputs": [
        {
          "output_type": "execute_result",
          "data": {
            "text/html": [
              "<div>\n",
              "<style scoped>\n",
              "    .dataframe tbody tr th:only-of-type {\n",
              "        vertical-align: middle;\n",
              "    }\n",
              "\n",
              "    .dataframe tbody tr th {\n",
              "        vertical-align: top;\n",
              "    }\n",
              "\n",
              "    .dataframe thead th {\n",
              "        text-align: right;\n",
              "    }\n",
              "</style>\n",
              "<table border=\"1\" class=\"dataframe\">\n",
              "  <thead>\n",
              "    <tr style=\"text-align: right;\">\n",
              "      <th></th>\n",
              "      <th>Date_of_cr</th>\n",
              "      <th>Customer_id</th>\n",
              "      <th>First_name</th>\n",
              "      <th>Gender</th>\n",
              "    </tr>\n",
              "  </thead>\n",
              "  <tbody>\n",
              "    <tr>\n",
              "      <th>0</th>\n",
              "      <td>2018-01-01</td>\n",
              "      <td>1000040</td>\n",
              "      <td>pradeep</td>\n",
              "      <td>Male</td>\n",
              "    </tr>\n",
              "    <tr>\n",
              "      <th>1</th>\n",
              "      <td>2018-01-01</td>\n",
              "      <td>1000055</td>\n",
              "      <td>anish</td>\n",
              "      <td>Male</td>\n",
              "    </tr>\n",
              "    <tr>\n",
              "      <th>2</th>\n",
              "      <td>2018-01-01</td>\n",
              "      <td>1000322</td>\n",
              "      <td>kamalkishor</td>\n",
              "      <td>Male</td>\n",
              "    </tr>\n",
              "    <tr>\n",
              "      <th>3</th>\n",
              "      <td>2018-01-01</td>\n",
              "      <td>1000371</td>\n",
              "      <td>dinesh</td>\n",
              "      <td>Male</td>\n",
              "    </tr>\n",
              "    <tr>\n",
              "      <th>4</th>\n",
              "      <td>2018-01-01</td>\n",
              "      <td>1000529</td>\n",
              "      <td>madankumarchaudhari</td>\n",
              "      <td>Male</td>\n",
              "    </tr>\n",
              "  </tbody>\n",
              "</table>\n",
              "</div>"
            ],
            "text/plain": [
              "  Date_of_cr  Customer_id           First_name Gender\n",
              "0 2018-01-01      1000040              pradeep   Male\n",
              "1 2018-01-01      1000055                anish   Male\n",
              "2 2018-01-01      1000322          kamalkishor   Male\n",
              "3 2018-01-01      1000371               dinesh   Male\n",
              "4 2018-01-01      1000529  madankumarchaudhari   Male"
            ]
          },
          "metadata": {
            "tags": []
          },
          "execution_count": 167
        }
      ]
    },
    {
      "cell_type": "code",
      "metadata": {
        "id": "p3Ehaa9ysj_8"
      },
      "source": [
        "df['Last_name'] = np.random.choice(last_name, 100000)"
      ],
      "execution_count": 168,
      "outputs": []
    },
    {
      "cell_type": "code",
      "metadata": {
        "id": "rgDLJ634tL3h"
      },
      "source": [
        "df['First_name'] = df.First_name.str.capitalize()\n",
        "df['Last_name'] = df.Last_name.str.capitalize()"
      ],
      "execution_count": 169,
      "outputs": []
    },
    {
      "cell_type": "code",
      "metadata": {
        "id": "aiSEQ0H5ph22",
        "colab": {
          "base_uri": "https://localhost:8080/",
          "height": 195
        },
        "outputId": "504c21fd-5c01-4376-c6f2-f5819c37a894"
      },
      "source": [
        "df = df[['Date_of_cr',\t'Customer_id',\t'First_name', 'Last_name', 'Gender']]\n",
        "df.head()"
      ],
      "execution_count": 170,
      "outputs": [
        {
          "output_type": "execute_result",
          "data": {
            "text/html": [
              "<div>\n",
              "<style scoped>\n",
              "    .dataframe tbody tr th:only-of-type {\n",
              "        vertical-align: middle;\n",
              "    }\n",
              "\n",
              "    .dataframe tbody tr th {\n",
              "        vertical-align: top;\n",
              "    }\n",
              "\n",
              "    .dataframe thead th {\n",
              "        text-align: right;\n",
              "    }\n",
              "</style>\n",
              "<table border=\"1\" class=\"dataframe\">\n",
              "  <thead>\n",
              "    <tr style=\"text-align: right;\">\n",
              "      <th></th>\n",
              "      <th>Date_of_cr</th>\n",
              "      <th>Customer_id</th>\n",
              "      <th>First_name</th>\n",
              "      <th>Last_name</th>\n",
              "      <th>Gender</th>\n",
              "    </tr>\n",
              "  </thead>\n",
              "  <tbody>\n",
              "    <tr>\n",
              "      <th>0</th>\n",
              "      <td>2018-01-01</td>\n",
              "      <td>1000040</td>\n",
              "      <td>Pradeep</td>\n",
              "      <td>Basu</td>\n",
              "      <td>Male</td>\n",
              "    </tr>\n",
              "    <tr>\n",
              "      <th>1</th>\n",
              "      <td>2018-01-01</td>\n",
              "      <td>1000055</td>\n",
              "      <td>Anish</td>\n",
              "      <td>Kalita</td>\n",
              "      <td>Male</td>\n",
              "    </tr>\n",
              "    <tr>\n",
              "      <th>2</th>\n",
              "      <td>2018-01-01</td>\n",
              "      <td>1000322</td>\n",
              "      <td>Kamalkishor</td>\n",
              "      <td>Biswas</td>\n",
              "      <td>Male</td>\n",
              "    </tr>\n",
              "    <tr>\n",
              "      <th>3</th>\n",
              "      <td>2018-01-01</td>\n",
              "      <td>1000371</td>\n",
              "      <td>Dinesh</td>\n",
              "      <td>Shanker</td>\n",
              "      <td>Male</td>\n",
              "    </tr>\n",
              "    <tr>\n",
              "      <th>4</th>\n",
              "      <td>2018-01-01</td>\n",
              "      <td>1000529</td>\n",
              "      <td>Madankumarchaudhari</td>\n",
              "      <td>Bakshi</td>\n",
              "      <td>Male</td>\n",
              "    </tr>\n",
              "  </tbody>\n",
              "</table>\n",
              "</div>"
            ],
            "text/plain": [
              "  Date_of_cr  Customer_id           First_name Last_name Gender\n",
              "0 2018-01-01      1000040              Pradeep      Basu   Male\n",
              "1 2018-01-01      1000055                Anish    Kalita   Male\n",
              "2 2018-01-01      1000322          Kamalkishor    Biswas   Male\n",
              "3 2018-01-01      1000371               Dinesh   Shanker   Male\n",
              "4 2018-01-01      1000529  Madankumarchaudhari    Bakshi   Male"
            ]
          },
          "metadata": {
            "tags": []
          },
          "execution_count": 170
        }
      ]
    },
    {
      "cell_type": "code",
      "metadata": {
        "id": "fx7hrXioxEIN"
      },
      "source": [
        "# Creating Email\n",
        "df['Email'] = df.First_name.str.lower() + '.' + df.Last_name.str.lower() + '@dummyemail.com'"
      ],
      "execution_count": 171,
      "outputs": []
    },
    {
      "cell_type": "code",
      "metadata": {
        "id": "K6DX5xg_xyIK"
      },
      "source": [
        "# Creating Phone #\n",
        "\n",
        "df['Phone'] = random.sample(range(7000000000, 9999999999), 100000)"
      ],
      "execution_count": 172,
      "outputs": []
    },
    {
      "cell_type": "code",
      "metadata": {
        "id": "d5JLQ4E6y9v5"
      },
      "source": [
        "# Creating Age\n",
        "\n",
        "df['Age'] = np.random.choice(range(25, 55), 100000)"
      ],
      "execution_count": 173,
      "outputs": []
    },
    {
      "cell_type": "code",
      "metadata": {
        "id": "Qx6E_l3nzdcs"
      },
      "source": [
        "# Creating Occupation\n",
        "\n",
        "occupation = ['Engineer', 'Teacher', 'Architect', 'Consultant', 'Scientist', 'Software Developer',\n",
        "              'Lawyer', 'Psychologist', 'Veterinarian', 'Civil Engineer', 'Surveyor', 'Secretary',\n",
        "              'Broker', 'Train_driver', 'Physician', 'Furniture Designer', 'Aviator', 'Estate agent',\n",
        "              'Domestic worker', 'Chef', 'Hotel Manager', 'Financial Analyst', 'Political scientist',\n",
        "              'Author', 'Biomedical Engineer', 'Official', 'Mathematician', 'Loan Officer', 'Machinist',\n",
        "              'Musician', 'Businessperson', 'Civil servant', 'Tailor', 'Politician', 'Designer', 'Industrial Engineer',\n",
        "              'Physiotherapist', 'Drafter', 'Rocket scientist', 'Graphic Designer', 'Health professional',\n",
        "              'Petroleum Engineer', 'Flight attendant', 'Historian', 'Mechanical engineer', 'Flight engineer',\n",
        "              'Professor', 'Army officer', 'Makeup Artist', 'School counselor', 'Computer operator', 'Govt.Service',\n",
        "              'Service', 'Self Employed']\n",
        "\n",
        "df['Occupation'] = np.random.choice(occupation, 100000)"
      ],
      "execution_count": 174,
      "outputs": []
    },
    {
      "cell_type": "code",
      "metadata": {
        "id": "50S3gSZn2NeO"
      },
      "source": [
        "# Creating income column\n",
        "df['Income'] = np.random.randint(300000, 3000000, 100000)"
      ],
      "execution_count": 175,
      "outputs": []
    },
    {
      "cell_type": "code",
      "metadata": {
        "id": "Zi3KScuu4M-z"
      },
      "source": [
        "# Creating maritak status\n",
        "\n",
        "marital_status = ['Married', 'Divorced', 'Single', 'Widowed', 'Separated']\n",
        "\n",
        "df['Marital_status'] = np.random.choice(marital_status, 100000, p=[0.6, 0.1, 0.1, 0.1, 0.1])"
      ],
      "execution_count": 176,
      "outputs": []
    },
    {
      "cell_type": "code",
      "metadata": {
        "id": "O07n4kZPpwrI"
      },
      "source": [
        "# Loan Purpose \n",
        "\n",
        "purpose = ['Bill Payments', 'Emergency Expenses', 'Home Repairs', 'Refinance', 'Medical Expense', 'Personal Expenses']\n",
        "\n",
        "df['Loan_purpose'] = np.random.choice(purpose, 100000)"
      ],
      "execution_count": 177,
      "outputs": []
    },
    {
      "cell_type": "code",
      "metadata": {
        "id": "yR0htrEK5Q4_"
      },
      "source": [
        "# Creating Principle Amount\n",
        "\n",
        "df['Principle_Amount'] = np.random.randint(300, 3000, 100000)\n",
        "df['Principle_Amount'] = df['Principle_Amount']*1000"
      ],
      "execution_count": 178,
      "outputs": []
    },
    {
      "cell_type": "code",
      "metadata": {
        "id": "SBs4SKPy82D6"
      },
      "source": [
        "# Creating Interest rate\n",
        "\n",
        "df['Interest_rate'] = np.random.uniform(14, 24, 100000)\n",
        "df['Interest_rate'] = df['Interest_rate'].round(1)"
      ],
      "execution_count": 179,
      "outputs": []
    },
    {
      "cell_type": "code",
      "metadata": {
        "id": "OxMOHzL99qAH"
      },
      "source": [
        "# Processing fee is 0.35% of the principle amount\n",
        "\n",
        "df['Processing_fee'] = df['Principle_Amount']*0.35/100"
      ],
      "execution_count": 180,
      "outputs": []
    },
    {
      "cell_type": "code",
      "metadata": {
        "id": "pCAK23A3-ava"
      },
      "source": [
        "# Tenure\n",
        "tenure = [12, 24, 36, 48, 60]\n",
        "df['Tenure'] = np.random.choice(tenure, 100000)"
      ],
      "execution_count": 181,
      "outputs": []
    },
    {
      "cell_type": "code",
      "metadata": {
        "id": "EB_NcqZWBbVH"
      },
      "source": [
        "# Creating EMI based on principle amount, interest rate & tenure\n",
        "\n",
        "df['EMI'] = (((df['Tenure']/12)*((df['Interest_rate']*df['Principle_Amount'])/100))+df['Principle_Amount'])/df['Tenure']\n",
        "df['EMI'] = df['EMI'].round(2)"
      ],
      "execution_count": 182,
      "outputs": []
    },
    {
      "cell_type": "code",
      "metadata": {
        "id": "cPdEvW3ZF583"
      },
      "source": [
        "# creating due date\n",
        "from dateutil.relativedelta import relativedelta\n",
        "\n",
        "date = [2, 10, 17, 24]\n",
        "dates = np.random.choice(date, 100000)\n",
        "year = []\n",
        "month= []\n",
        "\n",
        "\n",
        "for x in df['Date_of_cr']:\n",
        "  y = x.year\n",
        "  year.append(y)\n",
        "  m = x.month \n",
        "  month.append(m)\n",
        "\n",
        "duedate = pd.DataFrame(list(zip(year, month, dates)), columns=['year', 'month', 'day'])\n",
        "\n",
        "df['First_duedate'] = pd.to_datetime(duedate[['year', 'month', 'day']])\n",
        "\n",
        "First_duedate = []\n",
        "for index, row in df.iterrows():\n",
        "  ld = row['First_duedate'] + relativedelta(months=+ 1)\n",
        "  First_duedate.append(ld)\n",
        "\n",
        "\n",
        "df['First_duedate'] = First_duedate"
      ],
      "execution_count": 183,
      "outputs": []
    },
    {
      "cell_type": "code",
      "metadata": {
        "colab": {
          "base_uri": "https://localhost:8080/"
        },
        "id": "vBvFQyJqOzND",
        "outputId": "ef5dccdc-775c-42d0-8564-b5708a41ba26"
      },
      "source": [
        "df.shape"
      ],
      "execution_count": 184,
      "outputs": [
        {
          "output_type": "execute_result",
          "data": {
            "text/plain": [
              "(100000, 18)"
            ]
          },
          "metadata": {
            "tags": []
          },
          "execution_count": 184
        }
      ]
    },
    {
      "cell_type": "code",
      "metadata": {
        "id": "vxE_2-OSNiFb"
      },
      "source": [
        "# Finding last Due date\n",
        "from datetime import date\n",
        "from dateutil.relativedelta import relativedelta\n",
        "\n",
        "last_duedate = []\n",
        "for index, row in df.iterrows():\n",
        "  ld = row['First_duedate'] + relativedelta(months=+row['Tenure'])\n",
        "  last_duedate.append(ld)\n",
        "\n",
        "df['Last_duedate'] = last_duedate"
      ],
      "execution_count": 185,
      "outputs": []
    },
    {
      "cell_type": "code",
      "metadata": {
        "id": "6gYXRPSt-k4Q"
      },
      "source": [
        "# Last Payment Received\n",
        "from datetime import datetime\n",
        "today = datetime.today().date()\n",
        "\n",
        "last_payrecvd = []\n",
        "\n",
        "for index, row in df.iterrows():\n",
        "  months_passed = (today.year - row['First_duedate'].year)*12 + (today.month - row['First_duedate'].month)\n",
        "  if months_passed <= row['Tenure']:\n",
        "    y = str(random.choices(range(months_passed + 1), weights=([0]*(months_passed - 2) + [30, 30, 40]))).strip('[]')\n",
        "    lpd = row['First_duedate'] + relativedelta(months=+ int(y))\n",
        "    last_payrecvd.append(lpd)\n",
        "  else:\n",
        "    y = str(random.choices(range(row['Tenure'] + 1), weights=([0]*(row['Tenure'] - 2) + [30, 30, 40]))).strip('[]')\n",
        "    lpd = row['First_duedate'] + relativedelta(months=+ int(y))\n",
        "    last_payrecvd.append(lpd)\n",
        "    \n",
        "\n",
        "df['Last_payrecvd'] = last_payrecvd\n"
      ],
      "execution_count": 186,
      "outputs": []
    },
    {
      "cell_type": "code",
      "metadata": {
        "id": "ajdNYnHV-56K"
      },
      "source": [
        "# Tenure remaining\n",
        "import random\n",
        "from datetime import datetime\n",
        "\n",
        "tenure_rem = []\n",
        "for index, row in df.iterrows():\n",
        "  months_passed = (row['Last_payrecvd'].year - row['First_duedate'].year)*12 + (row['Last_payrecvd'].month - row['First_duedate'].month)\n",
        "  tr = row['Tenure'] - months_passed\n",
        "  if tr <= 0:\n",
        "    tr = 0\n",
        "    tenure_rem.append(tr)\n",
        "  else:\n",
        "    tenure_rem.append(tr)\n",
        "\n",
        "df['Tenure_rem'] = tenure_rem\n",
        "\n"
      ],
      "execution_count": 187,
      "outputs": []
    },
    {
      "cell_type": "code",
      "metadata": {
        "id": "H0-46xflN7ky",
        "colab": {
          "base_uri": "https://localhost:8080/"
        },
        "outputId": "2b259efa-2f0f-46f2-a7a6-ca6bc6d6bce1"
      },
      "source": [
        "# Next Duedate\n",
        "from datetime import datetime\n",
        "\n",
        "next_duedate = []\n",
        "\n",
        "for index, row in df.iterrows():\n",
        "  nd = row['Last_payrecvd'] + relativedelta(months=+1)\n",
        "  if nd <= row['Last_duedate']:\n",
        "    next_duedate.append(nd.date())\n",
        "  else:\n",
        "    nd = pd.datetime(1999, 1, 1)\n",
        "    next_duedate.append(nd)\n",
        "\n",
        "df['Next_duedate'] = next_duedate"
      ],
      "execution_count": 188,
      "outputs": [
        {
          "output_type": "stream",
          "text": [
            "/usr/local/lib/python3.6/dist-packages/ipykernel_launcher.py:11: FutureWarning: The pandas.datetime class is deprecated and will be removed from pandas in a future version. Import from datetime instead.\n",
            "  # This is added back by InteractiveShellApp.init_path()\n"
          ],
          "name": "stderr"
        }
      ]
    },
    {
      "cell_type": "code",
      "metadata": {
        "id": "W5BW6YZOHgmB"
      },
      "source": [
        "# Principle amount remaining\n",
        "Principle_amt_rem = []\n",
        "\n",
        "for index, row in df.iterrows():\n",
        "  principleamtrem = ((row['Tenure'] - row['Tenure_rem'])*(row['EMI'])*50/100)\n",
        "  if row['Tenure_rem'] == 0:\n",
        "    principleamtrem = 0\n",
        "    Principle_amt_rem.append(round(principleamtrem, 2))\n",
        "  else:\n",
        "    Principle_amt_rem.append(round(principleamtrem, 2))\n",
        "\n",
        "df['Principle_amt_rem'] = Principle_amt_rem\n"
      ],
      "execution_count": 189,
      "outputs": []
    },
    {
      "cell_type": "code",
      "metadata": {
        "id": "ZNjpD1V6O3RJ",
        "colab": {
          "base_uri": "https://localhost:8080/"
        },
        "outputId": "38199088-2327-48bb-fb28-186c8e5b5a8a"
      },
      "source": [
        "# Loan Status\n",
        "from datetime import datetime\n",
        "\n",
        "loanstatus = []\n",
        "\n",
        "for index, row in df.iterrows():\n",
        "  if row['Next_duedate'] == pd.datetime(1999, 1, 1):\n",
        "    loanstatus.append('Paidoff')\n",
        "  elif row['Next_duedate'] >= datetime.now():\n",
        "    loanstatus.append('Active')\n",
        "  elif row['Next_duedate'] < datetime.now():\n",
        "    if row['Next_duedate'] > (datetime.now() - relativedelta(months=+3)) and row['Next_duedate'] < datetime.now():\n",
        "      loanstatus.append('Collection')\n",
        "    elif row['Next_duedate'] < (datetime.now() - relativedelta(months=+3)):\n",
        "      loanstatus.append('Sold')\n",
        "\n",
        "  \n",
        "\n",
        "df['Loan_status'] = loanstatus"
      ],
      "execution_count": 190,
      "outputs": [
        {
          "output_type": "stream",
          "text": [
            "/usr/local/lib/python3.6/dist-packages/ipykernel_launcher.py:7: FutureWarning: The pandas.datetime class is deprecated and will be removed from pandas in a future version. Import from datetime instead.\n",
            "  import sys\n"
          ],
          "name": "stderr"
        }
      ]
    },
    {
      "cell_type": "code",
      "metadata": {
        "colab": {
          "base_uri": "https://localhost:8080/"
        },
        "id": "1MQD-IoYDucC",
        "outputId": "9f355d81-4b28-4fdf-a2ba-c208755b6bc2"
      },
      "source": [
        "df['Loan_status'].value_counts()"
      ],
      "execution_count": 191,
      "outputs": [
        {
          "output_type": "execute_result",
          "data": {
            "text/plain": [
              "Active        45198\n",
              "Collection    29752\n",
              "Sold          13884\n",
              "Paidoff       11166\n",
              "Name: Loan_status, dtype: int64"
            ]
          },
          "metadata": {
            "tags": []
          },
          "execution_count": 191
        }
      ]
    },
    {
      "cell_type": "code",
      "metadata": {
        "id": "-2qY81PNj69i"
      },
      "source": [
        "# late payments\n",
        "\n",
        "late_payment = []\n",
        "\n",
        "for index, row in df.iterrows():\n",
        "  if row['Loan_status'] == 'Collection':\n",
        "    lp = row['EMI']*5/100\n",
        "    late_payment.append(lp)\n",
        "  else:\n",
        "    lp = 0\n",
        "    late_payment.append(lp)\n",
        "\n",
        "df['Late_payment'] = late_payment\n"
      ],
      "execution_count": 192,
      "outputs": []
    },
    {
      "cell_type": "code",
      "metadata": {
        "id": "4eV8Z4dWzIK9"
      },
      "source": [
        "# foreclosure amount\n",
        "\n",
        "foreclosureamt = []\n",
        "\n",
        "for index, row in df.iterrows():\n",
        "  if row['Principle_amt_rem'] != 0:\n",
        "    fa = (row['Principle_amt_rem']*3/100) + (row['Principle_amt_rem']) + ((row['Principle_amt_rem']*3/100)*18/100)\n",
        "    foreclosureamt.append(round(fa, 2))\n",
        "  else:\n",
        "    fa = 0\n",
        "    foreclosureamt.append(round(fa, 2))\n",
        "\n",
        "\n",
        "df['Foreclosure_amt'] = foreclosureamt"
      ],
      "execution_count": 193,
      "outputs": []
    },
    {
      "cell_type": "code",
      "metadata": {
        "id": "P_8Zn_PJJRWV"
      },
      "source": [
        "cols = ['Date_of_cr', 'Customer_id', 'First_name', 'Last_name', 'Gender',\n",
        "        'Email', 'Phone', 'Age', 'Occupation', 'Income', 'Marital_status', 'Loan_purpose',\n",
        "        'Principle_Amount', 'Interest_rate', 'Processing_fee', 'Tenure', 'Tenure_rem', \n",
        "        'EMI', 'First_duedate', 'Last_duedate', 'Last_payrecvd', 'Next_duedate', \n",
        "        'Loan_status', 'Principle_amt_rem', 'Late_payment', 'Foreclosure_amt' ]\n",
        "\n",
        "df = df[cols]"
      ],
      "execution_count": 194,
      "outputs": []
    },
    {
      "cell_type": "code",
      "metadata": {
        "id": "gNFqDgsw0t1O",
        "colab": {
          "base_uri": "https://localhost:8080/",
          "height": 498
        },
        "outputId": "7cb71fcb-fd49-4434-fa5b-f255174317a3"
      },
      "source": [
        "df.head(10)"
      ],
      "execution_count": 195,
      "outputs": [
        {
          "output_type": "execute_result",
          "data": {
            "text/html": [
              "<div>\n",
              "<style scoped>\n",
              "    .dataframe tbody tr th:only-of-type {\n",
              "        vertical-align: middle;\n",
              "    }\n",
              "\n",
              "    .dataframe tbody tr th {\n",
              "        vertical-align: top;\n",
              "    }\n",
              "\n",
              "    .dataframe thead th {\n",
              "        text-align: right;\n",
              "    }\n",
              "</style>\n",
              "<table border=\"1\" class=\"dataframe\">\n",
              "  <thead>\n",
              "    <tr style=\"text-align: right;\">\n",
              "      <th></th>\n",
              "      <th>Date_of_cr</th>\n",
              "      <th>Customer_id</th>\n",
              "      <th>First_name</th>\n",
              "      <th>Last_name</th>\n",
              "      <th>Gender</th>\n",
              "      <th>Email</th>\n",
              "      <th>Phone</th>\n",
              "      <th>Age</th>\n",
              "      <th>Occupation</th>\n",
              "      <th>Income</th>\n",
              "      <th>Marital_status</th>\n",
              "      <th>Loan_purpose</th>\n",
              "      <th>Principle_Amount</th>\n",
              "      <th>Interest_rate</th>\n",
              "      <th>Processing_fee</th>\n",
              "      <th>Tenure</th>\n",
              "      <th>Tenure_rem</th>\n",
              "      <th>EMI</th>\n",
              "      <th>First_duedate</th>\n",
              "      <th>Last_duedate</th>\n",
              "      <th>Last_payrecvd</th>\n",
              "      <th>Next_duedate</th>\n",
              "      <th>Loan_status</th>\n",
              "      <th>Principle_amt_rem</th>\n",
              "      <th>Late_payment</th>\n",
              "      <th>Foreclosure_amt</th>\n",
              "    </tr>\n",
              "  </thead>\n",
              "  <tbody>\n",
              "    <tr>\n",
              "      <th>0</th>\n",
              "      <td>2018-01-01</td>\n",
              "      <td>1000040</td>\n",
              "      <td>Pradeep</td>\n",
              "      <td>Basu</td>\n",
              "      <td>Male</td>\n",
              "      <td>pradeep.basu@dummyemail.com</td>\n",
              "      <td>7026150471</td>\n",
              "      <td>52</td>\n",
              "      <td>Graphic Designer</td>\n",
              "      <td>866797</td>\n",
              "      <td>Separated</td>\n",
              "      <td>Home Repairs</td>\n",
              "      <td>2262000</td>\n",
              "      <td>14.7</td>\n",
              "      <td>7917.0</td>\n",
              "      <td>60</td>\n",
              "      <td>27</td>\n",
              "      <td>65409.50</td>\n",
              "      <td>2018-02-17</td>\n",
              "      <td>2023-02-17</td>\n",
              "      <td>2020-11-17</td>\n",
              "      <td>2020-12-17</td>\n",
              "      <td>Active</td>\n",
              "      <td>1079256.75</td>\n",
              "      <td>0.0</td>\n",
              "      <td>1117462.44</td>\n",
              "    </tr>\n",
              "    <tr>\n",
              "      <th>1</th>\n",
              "      <td>2018-01-01</td>\n",
              "      <td>1000055</td>\n",
              "      <td>Anish</td>\n",
              "      <td>Kalita</td>\n",
              "      <td>Male</td>\n",
              "      <td>anish.kalita@dummyemail.com</td>\n",
              "      <td>7685249813</td>\n",
              "      <td>40</td>\n",
              "      <td>Hotel Manager</td>\n",
              "      <td>362464</td>\n",
              "      <td>Married</td>\n",
              "      <td>Bill Payments</td>\n",
              "      <td>2033000</td>\n",
              "      <td>21.1</td>\n",
              "      <td>7115.5</td>\n",
              "      <td>36</td>\n",
              "      <td>3</td>\n",
              "      <td>92219.14</td>\n",
              "      <td>2018-02-10</td>\n",
              "      <td>2021-02-10</td>\n",
              "      <td>2020-11-10</td>\n",
              "      <td>2020-12-10</td>\n",
              "      <td>Active</td>\n",
              "      <td>1521615.81</td>\n",
              "      <td>0.0</td>\n",
              "      <td>1575481.01</td>\n",
              "    </tr>\n",
              "    <tr>\n",
              "      <th>2</th>\n",
              "      <td>2018-01-01</td>\n",
              "      <td>1000322</td>\n",
              "      <td>Kamalkishor</td>\n",
              "      <td>Biswas</td>\n",
              "      <td>Male</td>\n",
              "      <td>kamalkishor.biswas@dummyemail.com</td>\n",
              "      <td>7839518152</td>\n",
              "      <td>39</td>\n",
              "      <td>Veterinarian</td>\n",
              "      <td>1034093</td>\n",
              "      <td>Divorced</td>\n",
              "      <td>Medical Expense</td>\n",
              "      <td>2803000</td>\n",
              "      <td>19.6</td>\n",
              "      <td>9810.5</td>\n",
              "      <td>12</td>\n",
              "      <td>0</td>\n",
              "      <td>279365.67</td>\n",
              "      <td>2018-02-10</td>\n",
              "      <td>2019-02-10</td>\n",
              "      <td>2019-02-10</td>\n",
              "      <td>1999-01-01</td>\n",
              "      <td>Paidoff</td>\n",
              "      <td>0.00</td>\n",
              "      <td>0.0</td>\n",
              "      <td>0.00</td>\n",
              "    </tr>\n",
              "    <tr>\n",
              "      <th>3</th>\n",
              "      <td>2018-01-01</td>\n",
              "      <td>1000371</td>\n",
              "      <td>Dinesh</td>\n",
              "      <td>Shanker</td>\n",
              "      <td>Male</td>\n",
              "      <td>dinesh.shanker@dummyemail.com</td>\n",
              "      <td>8517705405</td>\n",
              "      <td>48</td>\n",
              "      <td>School counselor</td>\n",
              "      <td>1743556</td>\n",
              "      <td>Married</td>\n",
              "      <td>Medical Expense</td>\n",
              "      <td>617000</td>\n",
              "      <td>17.6</td>\n",
              "      <td>2159.5</td>\n",
              "      <td>48</td>\n",
              "      <td>14</td>\n",
              "      <td>21903.50</td>\n",
              "      <td>2018-02-17</td>\n",
              "      <td>2022-02-17</td>\n",
              "      <td>2020-12-17</td>\n",
              "      <td>2021-01-17</td>\n",
              "      <td>Active</td>\n",
              "      <td>372359.50</td>\n",
              "      <td>0.0</td>\n",
              "      <td>385541.03</td>\n",
              "    </tr>\n",
              "    <tr>\n",
              "      <th>4</th>\n",
              "      <td>2018-01-01</td>\n",
              "      <td>1000529</td>\n",
              "      <td>Madankumarchaudhari</td>\n",
              "      <td>Bakshi</td>\n",
              "      <td>Male</td>\n",
              "      <td>madankumarchaudhari.bakshi@dummyemail.com</td>\n",
              "      <td>8052592924</td>\n",
              "      <td>29</td>\n",
              "      <td>Furniture Designer</td>\n",
              "      <td>1598575</td>\n",
              "      <td>Separated</td>\n",
              "      <td>Refinance</td>\n",
              "      <td>2816000</td>\n",
              "      <td>15.5</td>\n",
              "      <td>9856.0</td>\n",
              "      <td>24</td>\n",
              "      <td>0</td>\n",
              "      <td>153706.67</td>\n",
              "      <td>2018-02-17</td>\n",
              "      <td>2020-02-17</td>\n",
              "      <td>2020-02-17</td>\n",
              "      <td>1999-01-01</td>\n",
              "      <td>Paidoff</td>\n",
              "      <td>0.00</td>\n",
              "      <td>0.0</td>\n",
              "      <td>0.00</td>\n",
              "    </tr>\n",
              "    <tr>\n",
              "      <th>5</th>\n",
              "      <td>2018-01-01</td>\n",
              "      <td>1000539</td>\n",
              "      <td>Satyanarayan</td>\n",
              "      <td>Mahal</td>\n",
              "      <td>Male</td>\n",
              "      <td>satyanarayan.mahal@dummyemail.com</td>\n",
              "      <td>9576571313</td>\n",
              "      <td>29</td>\n",
              "      <td>Physician</td>\n",
              "      <td>1419982</td>\n",
              "      <td>Separated</td>\n",
              "      <td>Medical Expense</td>\n",
              "      <td>941000</td>\n",
              "      <td>23.4</td>\n",
              "      <td>3293.5</td>\n",
              "      <td>12</td>\n",
              "      <td>2</td>\n",
              "      <td>96766.17</td>\n",
              "      <td>2018-02-10</td>\n",
              "      <td>2019-02-10</td>\n",
              "      <td>2018-12-10</td>\n",
              "      <td>2019-01-10</td>\n",
              "      <td>Sold</td>\n",
              "      <td>483830.85</td>\n",
              "      <td>0.0</td>\n",
              "      <td>500958.46</td>\n",
              "    </tr>\n",
              "    <tr>\n",
              "      <th>6</th>\n",
              "      <td>2018-01-01</td>\n",
              "      <td>1000635</td>\n",
              "      <td>Akshatvashu</td>\n",
              "      <td>Wadhwa</td>\n",
              "      <td>Male</td>\n",
              "      <td>akshatvashu.wadhwa@dummyemail.com</td>\n",
              "      <td>7384947303</td>\n",
              "      <td>27</td>\n",
              "      <td>Consultant</td>\n",
              "      <td>2460801</td>\n",
              "      <td>Married</td>\n",
              "      <td>Bill Payments</td>\n",
              "      <td>2472000</td>\n",
              "      <td>16.6</td>\n",
              "      <td>8652.0</td>\n",
              "      <td>12</td>\n",
              "      <td>2</td>\n",
              "      <td>240196.00</td>\n",
              "      <td>2018-02-24</td>\n",
              "      <td>2019-02-24</td>\n",
              "      <td>2018-12-24</td>\n",
              "      <td>2019-01-24</td>\n",
              "      <td>Sold</td>\n",
              "      <td>1200980.00</td>\n",
              "      <td>0.0</td>\n",
              "      <td>1243494.69</td>\n",
              "    </tr>\n",
              "    <tr>\n",
              "      <th>7</th>\n",
              "      <td>2018-01-01</td>\n",
              "      <td>1000671</td>\n",
              "      <td>Dharmendersingh</td>\n",
              "      <td>Chad</td>\n",
              "      <td>Male</td>\n",
              "      <td>dharmendersingh.chad@dummyemail.com</td>\n",
              "      <td>7512843101</td>\n",
              "      <td>35</td>\n",
              "      <td>Secretary</td>\n",
              "      <td>1090545</td>\n",
              "      <td>Married</td>\n",
              "      <td>Personal Expenses</td>\n",
              "      <td>1504000</td>\n",
              "      <td>21.7</td>\n",
              "      <td>5264.0</td>\n",
              "      <td>12</td>\n",
              "      <td>2</td>\n",
              "      <td>152530.67</td>\n",
              "      <td>2018-02-02</td>\n",
              "      <td>2019-02-02</td>\n",
              "      <td>2018-12-02</td>\n",
              "      <td>2019-01-02</td>\n",
              "      <td>Sold</td>\n",
              "      <td>762653.35</td>\n",
              "      <td>0.0</td>\n",
              "      <td>789651.28</td>\n",
              "    </tr>\n",
              "    <tr>\n",
              "      <th>8</th>\n",
              "      <td>2018-01-01</td>\n",
              "      <td>1000874</td>\n",
              "      <td>Vijender</td>\n",
              "      <td>Wadhwa</td>\n",
              "      <td>Male</td>\n",
              "      <td>vijender.wadhwa@dummyemail.com</td>\n",
              "      <td>7329500132</td>\n",
              "      <td>38</td>\n",
              "      <td>Civil Engineer</td>\n",
              "      <td>2707309</td>\n",
              "      <td>Married</td>\n",
              "      <td>Emergency Expenses</td>\n",
              "      <td>1729000</td>\n",
              "      <td>16.8</td>\n",
              "      <td>6051.5</td>\n",
              "      <td>48</td>\n",
              "      <td>14</td>\n",
              "      <td>60226.83</td>\n",
              "      <td>2018-02-17</td>\n",
              "      <td>2022-02-17</td>\n",
              "      <td>2020-12-17</td>\n",
              "      <td>2021-01-17</td>\n",
              "      <td>Active</td>\n",
              "      <td>1023856.11</td>\n",
              "      <td>0.0</td>\n",
              "      <td>1060100.62</td>\n",
              "    </tr>\n",
              "    <tr>\n",
              "      <th>9</th>\n",
              "      <td>2018-01-01</td>\n",
              "      <td>1000880</td>\n",
              "      <td>Ravi</td>\n",
              "      <td>Mitra</td>\n",
              "      <td>Male</td>\n",
              "      <td>ravi.mitra@dummyemail.com</td>\n",
              "      <td>8308979786</td>\n",
              "      <td>41</td>\n",
              "      <td>Drafter</td>\n",
              "      <td>1923376</td>\n",
              "      <td>Married</td>\n",
              "      <td>Refinance</td>\n",
              "      <td>2152000</td>\n",
              "      <td>14.8</td>\n",
              "      <td>7532.0</td>\n",
              "      <td>60</td>\n",
              "      <td>26</td>\n",
              "      <td>62408.00</td>\n",
              "      <td>2018-02-24</td>\n",
              "      <td>2023-02-24</td>\n",
              "      <td>2020-12-24</td>\n",
              "      <td>2021-01-24</td>\n",
              "      <td>Active</td>\n",
              "      <td>1060936.00</td>\n",
              "      <td>0.0</td>\n",
              "      <td>1098493.13</td>\n",
              "    </tr>\n",
              "  </tbody>\n",
              "</table>\n",
              "</div>"
            ],
            "text/plain": [
              "  Date_of_cr  Customer_id  ... Late_payment Foreclosure_amt\n",
              "0 2018-01-01      1000040  ...          0.0      1117462.44\n",
              "1 2018-01-01      1000055  ...          0.0      1575481.01\n",
              "2 2018-01-01      1000322  ...          0.0            0.00\n",
              "3 2018-01-01      1000371  ...          0.0       385541.03\n",
              "4 2018-01-01      1000529  ...          0.0            0.00\n",
              "5 2018-01-01      1000539  ...          0.0       500958.46\n",
              "6 2018-01-01      1000635  ...          0.0      1243494.69\n",
              "7 2018-01-01      1000671  ...          0.0       789651.28\n",
              "8 2018-01-01      1000874  ...          0.0      1060100.62\n",
              "9 2018-01-01      1000880  ...          0.0      1098493.13\n",
              "\n",
              "[10 rows x 26 columns]"
            ]
          },
          "metadata": {
            "tags": []
          },
          "execution_count": 195
        }
      ]
    },
    {
      "cell_type": "code",
      "metadata": {
        "id": "0bQvmFoCpYqa"
      },
      "source": [
        "df.to_csv('Personal_loan_dataset.csv')"
      ],
      "execution_count": 196,
      "outputs": []
    },
    {
      "cell_type": "code",
      "metadata": {
        "id": "2UpLpGgWpYmu"
      },
      "source": [
        ""
      ],
      "execution_count": 196,
      "outputs": []
    },
    {
      "cell_type": "code",
      "metadata": {
        "id": "VCgGW4h2pYkx"
      },
      "source": [
        ""
      ],
      "execution_count": 196,
      "outputs": []
    }
  ]
}